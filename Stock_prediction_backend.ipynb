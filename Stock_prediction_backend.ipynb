{
 "cells": [
  {
   "cell_type": "code",
   "execution_count": 2,
   "metadata": {},
   "outputs": [],
   "source": [
    "# Required Imports\n",
    "\n",
    "import numpy as np \n",
    "from urllib.request import urlopen\n",
    "import json\n",
    "import ast\n",
    "import sys"
   ]
  },
  {
   "cell_type": "code",
   "execution_count": 8,
   "metadata": {},
   "outputs": [
    {
     "name": "stdout",
     "output_type": "stream",
     "text": [
      "Incorrect company name\n"
     ]
    }
   ],
   "source": [
    "\n",
    "# Creating a stock_data class to return the stock data for which it was searched. \n",
    "class stock_data:\n",
    "    \n",
    "    def get_jsonparsed_data(self, url):\n",
    "        \"\"\"\n",
    "        Receive the content of ``url``, parse it as JSON and return the object.\n",
    "\n",
    "        Parameters\n",
    "        ----------\n",
    "        url : str\n",
    "\n",
    "        Returns\n",
    "        -------\n",
    "        dict\n",
    "        \"\"\"\n",
    "\n",
    "        response = urlopen(url)\n",
    "        response = response.read()\n",
    "        info = response.decode(\"utf-8\")\n",
    "        info =  ast.literal_eval(info[39:-2])\n",
    "        result = info['ResultSet']['Result']\n",
    "\n",
    "        return result\n",
    "\n",
    "\n",
    "\n",
    "    def get_stockSymbol(self, compName):\n",
    "        \n",
    "        \"\"\"To get the Stock Symbol/Token Name\"\"\"\n",
    "        \n",
    "        compName = compName.strip()\n",
    "        \n",
    "        check_space = compName.split(' ')\n",
    "        if len(check_space) > 1:\n",
    "            api_link = f'http://d.yimg.com/autoc.finance.yahoo.com/autoc?query={check_space[0]}+{check_space[1]}&region=1&lang=en&callback=YAHOO.Finance.SymbolSuggest.ssCallback'\n",
    "\n",
    "        else:\n",
    "            api_link = f'http://d.yimg.com/autoc.finance.yahoo.com/autoc?query={compName}&region=1&lang=en&callback=YAHOO.Finance.SymbolSuggest.ssCallback'\n",
    "\n",
    "        result = self.get_jsonparsed_data(api_link)\n",
    "        \n",
    "        if result:\n",
    "            stock_symbol = result[0]['symbol']\n",
    "            return stock_symbol\n",
    "        else:\n",
    "            return \"Incorrect company name\"\n",
    "    \n",
    "    \n",
    "    \n",
    "# Main method to run the code\n",
    "if __name__ == \"__main__\":\n",
    "    print(stock_data().get_stockSymbol(\"genera motors\"))\n",
    "\n"
   ]
  },
  {
   "cell_type": "code",
   "execution_count": null,
   "metadata": {},
   "outputs": [],
   "source": []
  }
 ],
 "metadata": {
  "kernelspec": {
   "display_name": "Python 3",
   "language": "python",
   "name": "python3"
  },
  "language_info": {
   "codemirror_mode": {
    "name": "ipython",
    "version": 3
   },
   "file_extension": ".py",
   "mimetype": "text/x-python",
   "name": "python",
   "nbconvert_exporter": "python",
   "pygments_lexer": "ipython3",
   "version": "3.6.10"
  }
 },
 "nbformat": 4,
 "nbformat_minor": 4
}
